{
 "cells": [
  {
   "cell_type": "code",
   "execution_count": 3,
   "id": "8614b6d7-adfb-4c9d-a261-f108ca691094",
   "metadata": {},
   "outputs": [
    {
     "data": {
      "application/vnd.jupyter.widget-view+json": {
       "model_id": "2e2f41cfb921493895cb287d049e9c44",
       "version_major": 2,
       "version_minor": 0
      },
      "text/plain": [
       "Loading checkpoint shards:   0%|          | 0/7 [00:00<?, ?it/s]"
      ]
     },
     "metadata": {},
     "output_type": "display_data"
    },
    {
     "name": "stdout",
     "output_type": "stream",
     "text": [
      "你好👋！我是人工智能助手 ChatGLM2-6B，很高兴见到你，欢迎问我任何问题。\n",
      "睡眠对于我们的身体和大脑都非常重要，有助于恢复身体和大脑的功能，提高注意力和注意力集中力。以下是一些有助于晚上入睡的技巧:\n",
      "\n",
      "1. 创建一个固定的睡眠时间表:每天都在相同的时间上床并尽量在同一时间醒来，有助于身体和大脑建立一个固定的生物钟。\n",
      "\n",
      "2. 创建一个舒适的睡眠环境:确保房间安静、黑暗、凉爽和舒适。如果需要，可以使用睡眠面罩、耳塞或空气净化器来帮助创造一个更舒适的睡眠环境。\n",
      "\n",
      "3. 避免使用电子设备:在睡觉前一两个小时内避免使用电子设备，如手机、电脑或平板电脑。这些设备会发出蓝光，可能会干扰睡眠。\n",
      "\n",
      "4. 放松身心:在睡觉前一小时左右，放松身心有助于减轻压力和焦虑。可以通过阅读、听轻柔的音乐或进行冥想来帮助放松身心。\n",
      "\n",
      "5. 避免饮用刺激性饮料:在睡觉前几个小时内，避免饮用咖啡、茶或碳酸饮料，因为这些饮料中含有咖啡因，可能会干扰睡眠。\n",
      "\n",
      "6. 锻炼身体:适当的身体锻炼可以帮助你放松身心，减轻压力和焦虑，并有助于睡眠。\n",
      "\n",
      "如果这些方法不能解决你的问题，你可能需要咨询医生或睡眠专家。\n"
     ]
    }
   ],
   "source": [
    "from transformers import AutoTokenizer, AutoModel\n",
    "tokenizer = AutoTokenizer.from_pretrained(\"/root/autodl-tmp/chatglm2\", trust_remote_code=True)\n",
    "model = AutoModel.from_pretrained(\"/root/autodl-tmp/chatglm2\", trust_remote_code=True, device='cuda')\n",
    "model = model.eval()\n",
    "response, history = model.chat(tokenizer, \"你好\", history=[])\n",
    "print(response)\n",
    "response, history = model.chat(tokenizer, \"晚上睡不着应该怎么办\", history=history)\n",
    "print(response)\n"
   ]
  },
  {
   "cell_type": "code",
   "execution_count": null,
   "id": "9dd5170d-1e81-4ad3-aad9-4564abc72157",
   "metadata": {},
   "outputs": [],
   "source": []
  }
 ],
 "metadata": {
  "kernelspec": {
   "display_name": "Python 3 (ipykernel)",
   "language": "python",
   "name": "python3"
  },
  "language_info": {
   "codemirror_mode": {
    "name": "ipython",
    "version": 3
   },
   "file_extension": ".py",
   "mimetype": "text/x-python",
   "name": "python",
   "nbconvert_exporter": "python",
   "pygments_lexer": "ipython3",
   "version": "3.8.10"
  }
 },
 "nbformat": 4,
 "nbformat_minor": 5
}
