{
 "cells": [
  {
   "cell_type": "code",
   "execution_count": 1,
   "id": "e162f68a-ea6d-424d-b1b2-2731e0c846e8",
   "metadata": {},
   "outputs": [
    {
     "name": "stderr",
     "output_type": "stream",
     "text": [
      "/Users/tianlimin/anaconda3/lib/python3.10/site-packages/tqdm/auto.py:21: TqdmWarning: IProgress not found. Please update jupyter and ipywidgets. See https://ipywidgets.readthedocs.io/en/stable/user_install.html\n",
      "  from .autonotebook import tqdm as notebook_tqdm\n"
     ]
    }
   ],
   "source": [
    "from text2vec import SentenceModel\n",
    "from flask import Flask\n",
    "from flask import render_template\n",
    "from flask import request\n",
    "from qdrant_client import QdrantClient"
   ]
  },
  {
   "cell_type": "code",
   "execution_count": 2,
   "id": "93fabbe5-d40b-4275-afaa-6cfa2234205d",
   "metadata": {},
   "outputs": [
    {
     "name": "stdout",
     "output_type": "stream",
     "text": [
      "/Users/tianlimin/vector based model/server\n"
     ]
    }
   ],
   "source": [
    "import os\n",
    "#os.chdir('/root/ChatBot/QA')\n",
    "print(os.getcwd())"
   ]
  },
  {
   "cell_type": "code",
   "execution_count": 3,
   "id": "7ea336b9-f590-4670-a110-b3203e6ca39c",
   "metadata": {},
   "outputs": [
    {
     "name": "stderr",
     "output_type": "stream",
     "text": [
      "\u001b[32m2023-12-29 10:33:48.595\u001b[0m | \u001b[34m\u001b[1mDEBUG   \u001b[0m | \u001b[36mtext2vec.sentence_model\u001b[0m:\u001b[36m__init__\u001b[0m:\u001b[36m80\u001b[0m - \u001b[34m\u001b[1mUse device: cpu\u001b[0m\n"
     ]
    }
   ],
   "source": [
    "# 加载向量化模型\n",
    "t2v_model = SentenceModel(\"/Users/tianlimin/vector based model/mode/text2vec_cmed\")"
   ]
  },
  {
   "cell_type": "code",
   "execution_count": 4,
   "id": "31ec8c2c-d949-4c24-9ee2-b5d99a091a4e",
   "metadata": {},
   "outputs": [],
   "source": [
    "# 导入数据库key\n",
    "with open('key.txt','r') as f:\n",
    "    key = f.read()"
   ]
  },
  {
   "cell_type": "code",
   "execution_count": 5,
   "id": "1c01f7af-7506-4248-994d-b86c3ce05e32",
   "metadata": {},
   "outputs": [],
   "source": [
    "# 文本向量化\n",
    "def to_embeddings(text):\n",
    "    sentence_embeddings = t2v_model.encode(text)\n",
    "    return sentence_embeddings"
   ]
  },
  {
   "cell_type": "code",
   "execution_count": 6,
   "id": "dd4e6648-8ad9-4fb1-a1e3-c9c366f73c4a",
   "metadata": {
    "tags": []
   },
   "outputs": [
    {
     "name": "stderr",
     "output_type": "stream",
     "text": [
      "Explicitly passing a `revision` is encouraged when loading a model with custom code to ensure no malicious code has been contributed in a newer revision.\n",
      "Explicitly passing a `revision` is encouraged when loading a configuration with custom code to ensure no malicious code has been contributed in a newer revision.\n",
      "Explicitly passing a `revision` is encouraged when loading a model with custom code to ensure no malicious code has been contributed in a newer revision.\n",
      "Loading checkpoint shards: 100%|██████████| 8/8 [00:08<00:00,  1.11s/it]\n"
     ]
    }
   ],
   "source": [
    "# load chatglm model\n",
    "from transformers import AutoTokenizer, AutoModel\n",
    "tokenizer = AutoTokenizer.from_pretrained(\"/Users/tianlimin/vector based model/mode/chatglm-6b\", trust_remote_code=True)\n",
    "model = AutoModel.from_pretrained(\"/Users/tianlimin/vector based model/mode/chatglm-6b\", trust_remote_code=True).half().to('mps')\n",
    "model = model.eval()"
   ]
  },
  {
   "cell_type": "code",
   "execution_count": 7,
   "id": "7e769e94-073a-41ac-ac44-976bdf4013bf",
   "metadata": {},
   "outputs": [],
   "source": [
    "def ask_glm(text,hsitory=[]):\n",
    "    response, history = model.chat(tokenizer, text, history=hsitory)\n",
    "    return response,history"
   ]
  },
  {
   "cell_type": "code",
   "execution_count": 9,
   "id": "505e8642-9915-473f-bee9-cae594ee96ae",
   "metadata": {},
   "outputs": [
    {
     "name": "stdout",
     "output_type": "stream",
     "text": [
      "Headaches are a common condition that can affect anyone, and they can be caused by a variety of factors. Some common causes of headaches include:\n",
      "\n",
      "1. Migraines: These are severe, persistent headaches that can be accompanied by other symptoms such as nausea, vomiting, and sensitivity to light and sound.\n",
      "2. Tension headaches: These are often the most common type of headache, and they are caused by muscle tension and stress.\n",
      "3. Sinus headaches: These are headaches that are caused by inflammation or congestion in the nasal passages.\n",
      "4.  Cluster headaches: These are severe, intense headaches that are often accompanied by feelings of intense fear or panic.\n",
      "5. Migraine-like headaches: These headaches may have similar symptoms to migraines, but they are not actually migraines.\n",
      "\n",
      "It is important to note that headaches can be caused by a variety of factors, and they may not always be related to any one underlying medical condition. If you are experiencing frequent or severe headaches, it is important to speak with a healthcare provider for further evaluation and treatment.\n"
     ]
    }
   ],
   "source": [
    "print(ask_glm('What about the headache?')[0])"
   ]
  },
  {
   "cell_type": "code",
   "execution_count": 8,
   "id": "2d5a38f5-3502-4e90-806b-f71c33661077",
   "metadata": {},
   "outputs": [],
   "source": [
    "def prompt(question, answers):\n",
    "    q = '请分析用户故事,根据提示的答案写出用户故事的分数和评价，测试\\n' \n",
    "    for index, answer in enumerate(answers):\n",
    "        q += str(index + 1) + '. ' + str(answer['text']) + '\\n'\n",
    "    q = q+\"问题：%s || 答案：\" % question\n",
    "\n",
    "    return q\n"
   ]
  },
  {
   "cell_type": "code",
   "execution_count": 9,
   "id": "f6b6b16c-2abc-4f7b-9508-0c985a0f13fe",
   "metadata": {},
   "outputs": [],
   "source": [
    "def query(text):\n",
    "    client = QdrantClient(\n",
    "        url=\"https://9759a1d6-6cf2-4049-bd61-a5cb09ee44f3.us-east4-0.gcp.cloud.qdrant.io:6333\", \n",
    "        api_key=key,\n",
    "    )\n",
    "    collection_name = \"questions\"\n",
    "    \n",
    "    vector = to_embeddings(text)\n",
    "    \"\"\"\n",
    "    取搜索结果的前三个，如果想要更多的搜索结果，可以把limit设置为更大的值\n",
    "    \"\"\"\n",
    "    search_result = client.search(\n",
    "        collection_name=collection_name,\n",
    "        query_vector=vector.tolist(),\n",
    "        limit=1,\n",
    "        search_params={\"exact\": False, \"hnsw_ef\": 128}\n",
    "    )\n",
    "    answers = []\n",
    " \n",
    "    \"\"\"\n",
    "    每个匹配的相关摘要只取了前300个字符，如果想要更多的相关摘要，可以把这里的300改为更大的值\n",
    "    \"\"\"\n",
    "    for result in search_result:\n",
    "        if len(result.payload[\"text\"]) > 1000:\n",
    "            summary = result.payload[\"text\"][:1000]\n",
    "        else:\n",
    "            summary = result.payload[\"text\"]\n",
    "        answers.append({ \"text\": summary})\n",
    "    promptMessage=prompt(text, answers)\n",
    "    print(promptMessage)\n",
    "    response,history =  ask_glm(promptMessage)\n",
    "\n",
    "    return response"
   ]
  },
  {
   "cell_type": "code",
   "execution_count": 12,
   "id": "6812523b-0e9d-41cd-99b4-ff9a376039a8",
   "metadata": {
    "tags": []
   },
   "outputs": [
    {
     "name": "stdout",
     "output_type": "stream",
     "text": [
      "请分析用户故事,根据提示的答案写出用户故事的分数和评价，测试\n",
      "1. 问题：\"作为顾客，我想按类别筛选产品，这样就能缩小搜索范围\"。 || 答案：总分：79这个用户故事看起来结构很好，总分为79。它有效地传达了客户按类别筛选产品的需求，为评估和测试提供了足够的信息。此外，验收标准进一步提高了用户故事的清晰度和可测试性，确保开发团队在实现和验证所需功能方面有明确的指导。为用户指定的角色被明确地标识为客户的角色（10）。此外，角色的定义简洁明了，符合规定的5个单词的限制（3）。就用户故事组件而言，包含基本的“我想”条款可确保所需的动作得到明确表达（10）。预期结果，包括按类别过滤产品，得到了很好的阐述，并与客户的角色无缝一致（8）。此外，用户故事包含了关键的“所以”元素，为指定的操作提供了有价值的上下文（10）。向前看，缩小搜索范围的目标已明确传达（7）。用户故事成功地在客户的角色和期望的结果之间保持了清晰的相关性（8）。就实用性而言，用户故事可能很容易在开发工作方面得到评估（6）。此外，故事结构良好，易于测试，具有可测试的功能和潜在的测试场景（6）。验收标准：按类别过滤产品-阳性案例：测试案例：通过从可用选项中选择特定类别，验证客户能否成功过滤产品。小黄瓜测试：假设客户在产品列表页面上，当他们选择“电子”类别时，则显示的产品应仅限于“电子”类产品。按类别筛选产品-阴性案例（无结果）：测试案例：确保客户在尝试按没有匹配项目的类别筛选产品时收到适当的反馈。小黄瓜测试：假设客户在产品列表页面上，当他们选择“运动装备”类别时，他们应该会看到一条消息，表明所选类别中没有可用的产品。按类别筛选产品-多个类别：测试用例：验证客户是否可以通过同时选择多个类别来筛选产品。小黄瓜测试：假设客户在产品列表页面上，当他们同时选择“服装”和“鞋类”类别时，则显示的产品应包括两个选定类别的商品。按类别过滤产品-清除过滤器：测试用例：确认客户可以轻松清除所选类别过滤器以查看整个产品目录。小黄瓜测试：假设客户已按“家庭装饰”类别过滤产品，当他们单击“清除过滤器”按钮时，产品列表应恢复为显示所有可用类别的产品。\n",
      "问题：\"作为顾客，我想将产品添加到购物车，以便稍后购买\"。 || 答案：\n"
     ]
    },
    {
     "name": "stderr",
     "output_type": "stream",
     "text": [
      "The dtype of attention mask (torch.int64) is not bool\n",
      "/Users/tianlimin/.cache/huggingface/modules/transformers_modules/chatglm-6b/modeling_chatglm.py:460: UserWarning: MPS: no support for int64 for min_max, downcasting to a smaller data type (int32/float32). Native support for int64 has been added in macOS 13.3. (Triggered internally at /Users/runner/work/pytorch/pytorch/pytorch/aten/src/ATen/native/mps/operations/ReduceOps.mm:621.)\n",
      "  cos, sin = self.rotary_emb(q1, seq_len=position_ids.max() + 1)\n"
     ]
    },
    {
     "data": {
      "text/plain": [
       "'Etat: 100这个用户故事看起来结构很好，总分为100。它有效地传达了客户添加产品到购物车的需求，为评估和测试提供了足够的信息。此外，验收标准进一步提高了用户故事的清晰度和可测试性，确保开发团队在实现和验证所需功能方面有明确的指导。为用户指定的角色被明确地标识为客户的角色(10)。添加产品到购物车是客户的角色(10)。预期结果，包括添加到购物车的产品，已被成功地传达(10)。购物车中的产品已被成功地添加到购物车(10)。向前看，目标已明确传达(10)。用户故事成功地在客户的角色和期望的结果之间保持了清晰的相关性(10)。就实用性而言，用户故事可能很容易在开发工作方面得到评估(6)。故事结构良好，易于测试，具有可测试的功能和潜在的测试场景(6)。验收标准：购物车-阳性案例：测试案例：通过从购物车列表中选择已添加到购物车的产品，验证客户是否成功保存购物车中的产品。小黄瓜测试：假设客户在产品列表页面上，当他们选择“食品”类别时，则显示的产品应仅限于“食品”类产品。小黄瓜测试：假设客户在购物车页面上，当他们选择“食品”和“饮料”类别时，则显示的产品应包括两个选定类别的商品。购物车-阴性案例(无结果)：测试案例：确保客户在尝试添加未匹配项目的类别时收到适当的反馈。小黄瓜测试：假设客户在购物车页面上，当他们选择“运动装备”类别时，他们应该会看到一条消息，表明所选类别中没有可用的产品。购物车-多个类别：测试用例：验证客户是否可以通过同时选择多个类别来添加产品到购物车。小黄瓜测试：假设客户在购物车页面上，当他们同时选择“服装”和 ⁇ ️“鞋类”类别时，则显示的产品应包括两个选定类别的商品。购物车-清除过滤器：测试用例：确认 ⁇ ️客户可以轻松清除所选类别过滤器以查看整个购物车列表。小黄瓜测试：假设客户已按“食品”类别过滤产品，当他们单击“清除过滤器”按钮时，购物车列表应恢复为显示所有可用类别的产品。\\n\\n总之，这个用户故事分数为100分，评价很高。'"
      ]
     },
     "execution_count": 12,
     "metadata": {},
     "output_type": "execute_result"
    }
   ],
   "source": [
    "query('\"作为顾客，我想将产品添加到购物车，以便稍后购买\"。')"
   ]
  },
  {
   "cell_type": "code",
   "execution_count": null,
   "id": "79c46ea7-8856-4a10-a829-f575223fa955",
   "metadata": {},
   "outputs": [],
   "source": []
  }
 ],
 "metadata": {
  "kernelspec": {
   "display_name": "Python 3 (ipykernel)",
   "language": "python",
   "name": "python3"
  },
  "language_info": {
   "codemirror_mode": {
    "name": "ipython",
    "version": 3
   },
   "file_extension": ".py",
   "mimetype": "text/x-python",
   "name": "python",
   "nbconvert_exporter": "python",
   "pygments_lexer": "ipython3",
   "version": "3.11.4"
  }
 },
 "nbformat": 4,
 "nbformat_minor": 5
}
